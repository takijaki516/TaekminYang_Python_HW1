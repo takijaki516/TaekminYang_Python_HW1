{
 "cells": [
  {
   "cell_type": "code",
   "execution_count": 13,
   "outputs": [
    {
     "name": "stdout",
     "output_type": "stream",
     "text": [
      "[38, 7, 9, 24, 9, 45] \n"
     ]
    }
   ],
   "source": [
    "#1번\n",
    "import math\n",
    "import random\n",
    "\n",
    "\n",
    "class Node():\n",
    "    def __init__(self):\n",
    "        self.data = None\n",
    "        self.link = None\n",
    "\n",
    "\n",
    "def printNodes(start):\n",
    "    current = start\n",
    "    if current == None:\n",
    "        return\n",
    "    print(current.data, end=' ')\n",
    "    while current.link != None:\n",
    "        current = current.link\n",
    "        print(current.data, end=' ')\n",
    "    print()\n",
    "\n",
    "\n",
    "def makeSimpleLinkedList(data):\n",
    "    global memory, head, current, pre\n",
    "\n",
    "    node = Node()\n",
    "    node.data = data\n",
    "    memory.append(node)\n",
    "    if head == None:  # 첫 번째 노드일 때\n",
    "        head = node\n",
    "        return\n",
    "\n",
    "    # 중간 노드로 삽입하는 경우\n",
    "    current = head\n",
    "    while current.link != None:\n",
    "        pre = current\n",
    "        current = current.link\n",
    "\n",
    "\n",
    "## 전역 변수 선언 부분 ##\n",
    "memory = []\n",
    "head, current, pre = None, None, None\n",
    "\n",
    "dataArray = []\n",
    "for _ in range(6):\n",
    "    a = random.randint(1, 46)\n",
    "    dataArray.append(a)\n",
    "\n",
    "## 메인 코드 부분 ##\n",
    "for data in dataArray:\n",
    "    makeSimpleLinkedList(dataArray)\n",
    "\n",
    "printNodes(head)"
   ],
   "metadata": {
    "collapsed": false,
    "pycharm": {
     "name": "#%%\n"
    }
   }
  },
  {
   "cell_type": "code",
   "execution_count": 34,
   "outputs": [
    {
     "name": "stdout",
     "output_type": "stream",
     "text": [
      "('A', 53, 6)->('B', 73, 97)->('C', 38, 10)->('D', 29, 1)->('E', 23, 85)->('F', 92, 89)->('G', 51, 4)->('H', 27, 88)->('I', 76, 85)->('J', 47, 34)->\n"
     ]
    }
   ],
   "source": [
    "# 2번\n",
    "\n",
    "import random\n",
    "import math\n",
    "\n",
    "dataArr = []\n",
    "\n",
    "for i in range(10):\n",
    "    dataArr.append((chr(ord('A') + i), random.randint(1, 100), random.randint(1, 100)))\n",
    "\n",
    "sorted(dataArr, key=lambda x: math.sqrt(x[1] ** 2 + x[2] ** 2))\n",
    "\n",
    "\n",
    "class Node():\n",
    "    def __init__(self):\n",
    "        self.data = None\n",
    "        self.link = None\n",
    "\n",
    "\n",
    "def printNodes(start):\n",
    "    current = start\n",
    "    if current.link == None:\n",
    "        return\n",
    "    print(current.data, end='->')\n",
    "    while current.link != start:\n",
    "        current = current.link\n",
    "        print(current.data, end='->')\n",
    "    print()\n",
    "\n",
    "\n",
    "if __name__ == \"__main__\":\n",
    "\n",
    "    node = Node()\n",
    "    node.data = dataArr[0]  # 첫 번째 노드\n",
    "    head = node\n",
    "    node.link = head\n",
    "    memory.append(node)\n",
    "\n",
    "    for data in dataArr[1:]:  # 두 번째 이후 노드\n",
    "        pre = node\n",
    "        node = Node()\n",
    "        node.data = data\n",
    "        pre.link = node\n",
    "        node.link = head\n",
    "        memory.append(node)\n",
    "\n",
    "    printNodes(head)"
   ],
   "metadata": {
    "collapsed": false,
    "pycharm": {
     "name": "#%%\n"
    }
   }
  },
  {
   "cell_type": "code",
   "execution_count": 37,
   "outputs": [
    {
     "name": "stdout",
     "output_type": "stream",
     "text": [
      "4th\n",
      "3rd\n",
      "2nd\n",
      "1st\n"
     ]
    }
   ],
   "source": [
    "#3번\n",
    "dataArr = ['1st', '2nd', '3rd', '4th']\n",
    "\n",
    "\n",
    "SIZE = 100\n",
    "stack = [None for _ in range(SIZE)]\n",
    "top = -1\n",
    "\n",
    "\n",
    "## 함수 선언 부분 ##\n",
    "def isStackFull():\n",
    "    global SIZE, stack, top\n",
    "    if (top >= SIZE - 1):\n",
    "        return True\n",
    "    else:\n",
    "        return False\n",
    "\n",
    "\n",
    "def isStackEmpty():\n",
    "    global SIZE, stack, top\n",
    "    if (top == -1):\n",
    "        return True\n",
    "    else:\n",
    "        return False\n",
    "\n",
    "\n",
    "def push(data):\n",
    "    global SIZE, stack, top\n",
    "    if (isStackFull()):\n",
    "        print(\"스택이 꽉 찼습니다.\")\n",
    "        return\n",
    "    top += 1\n",
    "    stack[top] = data\n",
    "\n",
    "\n",
    "def pop():\n",
    "    global SIZE, stack, top\n",
    "    if (isStackEmpty()):\n",
    "        print(\"스택이 비었습니다.\")\n",
    "        return None\n",
    "    data = stack[top]\n",
    "    stack[top] = None\n",
    "    top -= 1\n",
    "    return data\n",
    "\n",
    "\n",
    "for data in dataArr:\n",
    "    push(data)\n",
    "\n",
    "for _ in range(len(dataArr)):\n",
    "    print(pop())"
   ],
   "metadata": {
    "collapsed": false,
    "pycharm": {
     "name": "#%%\n"
    }
   }
  },
  {
   "cell_type": "code",
   "execution_count": 44,
   "outputs": [
    {
     "name": "stdout",
     "output_type": "stream",
     "text": [
      "귀하의 대기시간은 0' 이다\n",
      "귀하의 대기시간은 9' 이다\n",
      "귀하의 대기시간은 12' 이다\n",
      "귀하의 대기시간은 16' 이다\n",
      "귀하의 대기시간은 20' 이다\n",
      "귀하의 대기시간은 23' 이다\n",
      "큐가 꽉 찼습니다.\n",
      "큐가 비었습니다.\n"
     ]
    }
   ],
   "source": [
    "#4\n",
    "def isQueueFull():\n",
    "    global SIZE, queue, front, rear\n",
    "    if ((rear + 1) % SIZE == front):\n",
    "        return True\n",
    "    else:\n",
    "        return False\n",
    "\n",
    "\n",
    "def isQueueEmpty():\n",
    "    global SIZE, queue, front, rear\n",
    "    if (front == rear):\n",
    "        return True\n",
    "    else:\n",
    "        return False\n",
    "\n",
    "\n",
    "def enQueue(data):\n",
    "    global SIZE, queue, front, rear\n",
    "    if (isQueueFull()):\n",
    "        print(\"큐가 꽉 찼습니다.\")\n",
    "        return\n",
    "    rear = (rear + 1) % SIZE\n",
    "    queue[rear] = data\n",
    "\n",
    "\n",
    "def deQueue():\n",
    "    global SIZE, queue, front, rear\n",
    "    if (isQueueEmpty()):\n",
    "        print(\"큐가 비었습니다.\")\n",
    "        return None\n",
    "    front = (front + 1) % SIZE\n",
    "    data = queue[front]\n",
    "    queue[front] = None\n",
    "    return data\n",
    "\n",
    "\n",
    "dataArr = [None, ('사용', 9), ('고장', 3), ('환불', 4), ('환불', 4), ('고장', 3)]\n",
    "\n",
    "SIZE = 6\n",
    "queue = [None for _ in range(SIZE)]\n",
    "front = rear = 0\n",
    "\n",
    "waiting_time = 0\n",
    "for data in dataArr:\n",
    "    if data is not None:\n",
    "        waiting_time += data[1]\n",
    "    print(f\"귀하의 대기시간은 {waiting_time}' 이다\")\n",
    "    enQueue(data)\n",
    "\n",
    "\n",
    "\n",
    "\n",
    "\n",
    "for i in range(len(dataArr)):\n",
    "    temp_data = deQueue()\n"
   ],
   "metadata": {
    "collapsed": false,
    "pycharm": {
     "name": "#%%\n"
    }
   }
  },
  {
   "cell_type": "code",
   "execution_count": null,
   "outputs": [],
   "source": [],
   "metadata": {
    "collapsed": false,
    "pycharm": {
     "name": "#%%\n"
    }
   }
  }
 ],
 "metadata": {
  "kernelspec": {
   "display_name": "Python 3",
   "language": "python",
   "name": "python3"
  },
  "language_info": {
   "codemirror_mode": {
    "name": "ipython",
    "version": 2
   },
   "file_extension": ".py",
   "mimetype": "text/x-python",
   "name": "python",
   "nbconvert_exporter": "python",
   "pygments_lexer": "ipython2",
   "version": "2.7.6"
  }
 },
 "nbformat": 4,
 "nbformat_minor": 0
}